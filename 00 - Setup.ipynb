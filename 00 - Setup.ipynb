{
 "cells": [
  {
   "cell_type": "code",
   "execution_count": 0,
   "metadata": {
    "application/vnd.databricks.v1+cell": {
     "cellMetadata": {
      "byteLimit": 2048000,
      "rowLimit": 10000
     },
     "inputWidgets": {},
     "nuid": "5c5f6424-b9fa-412a-8514-61fed3294b7e",
     "showTitle": false,
     "tableResultSettingsMap": {},
     "title": ""
    }
   },
   "outputs": [],
   "source": [
    "%pip install -U -qqqq unitycatalog-ai[databricks] mlflow-skinny[databricks] langgraph==0.3.4 databricks-langchain databricks-agents uv\n",
    "%restart_python"
   ]
  },
  {
   "cell_type": "code",
   "execution_count": 0,
   "metadata": {
    "application/vnd.databricks.v1+cell": {
     "cellMetadata": {
      "byteLimit": 2048000,
      "rowLimit": 10000
     },
     "inputWidgets": {},
     "nuid": "0a5d9fc9-eb11-42f2-bc6e-e44036957eac",
     "showTitle": false,
     "tableResultSettingsMap": {},
     "title": ""
    }
   },
   "outputs": [],
   "source": [
    "import sys\n",
    "sys.path.append(\".\")\n",
    "\n",
    "from workshop_config import *"
   ]
  },
  {
   "cell_type": "code",
   "execution_count": 0,
   "metadata": {
    "application/vnd.databricks.v1+cell": {
     "cellMetadata": {
      "byteLimit": 2048000,
      "implicitDf": true,
      "rowLimit": 10000
     },
     "inputWidgets": {},
     "nuid": "f1742c2e-72a1-4b9f-8d95-2a3d2fe3010a",
     "showTitle": false,
     "tableResultSettingsMap": {},
     "title": ""
    }
   },
   "outputs": [],
   "source": [
    "%sql\n",
    "create schema if not exists identifier(:WORKSHOP_CATALOG || \".\" || :WORKSHOP_SCHEMA);\n",
    "create volume if not exists identifier(:WORKSHOP_CATALOG || \".\" || :WORKSHOP_SCHEMA || \".data\");\n",
    "use identifier(:WORKSHOP_CATALOG || \".\" || :WORKSHOP_SCHEMA);"
   ]
  },
  {
   "cell_type": "code",
   "execution_count": 0,
   "metadata": {
    "application/vnd.databricks.v1+cell": {
     "cellMetadata": {
      "byteLimit": 2048000,
      "implicitDf": true,
      "rowLimit": 10000
     },
     "inputWidgets": {},
     "nuid": "88e8e394-05df-43a6-9015-57c88a50ef6c",
     "showTitle": false,
     "tableResultSettingsMap": {},
     "title": ""
    }
   },
   "outputs": [],
   "source": [
    "spark.sql(\n",
    "    f\"grant use schema, select, execute, read volume on schema {WORKSHOP_CATALOG}.{WORKSHOP_SCHEMA} to `account users`\"\n",
    ")"
   ]
  },
  {
   "cell_type": "code",
   "execution_count": 0,
   "metadata": {
    "application/vnd.databricks.v1+cell": {
     "cellMetadata": {
      "byteLimit": 2048000,
      "rowLimit": 10000
     },
     "inputWidgets": {},
     "nuid": "f17285f1-c77d-4a06-98ff-f257fc4550c5",
     "showTitle": false,
     "tableResultSettingsMap": {},
     "title": ""
    }
   },
   "outputs": [],
   "source": [
    "%sh\n",
    "rm /Volumes/$WORKSHOP_CATALOG/$WORKSHOP_SCHEMA/data/*.csv\n",
    "cp data/*.csv /Volumes/$WORKSHOP_CATALOG/$WORKSHOP_SCHEMA/data"
   ]
  },
  {
   "cell_type": "code",
   "execution_count": 0,
   "metadata": {
    "application/vnd.databricks.v1+cell": {
     "cellMetadata": {
      "byteLimit": 2048000,
      "implicitDf": true,
      "rowLimit": 10000
     },
     "inputWidgets": {},
     "nuid": "a3b2095d-a033-4914-855f-8065ac7aec7e",
     "showTitle": false,
     "tableResultSettingsMap": {},
     "title": ""
    }
   },
   "outputs": [],
   "source": [
    "%sql\n",
    "create or replace table cust_service_data\n",
    "select\n",
    "  * except (_rescued_data)\n",
    "from\n",
    "  read_files(\n",
    "    \"/Volumes/\" || :WORKSHOP_CATALOG || \"/\" || :WORKSHOP_SCHEMA || \"/data/cust_service_data.csv\",\n",
    "    format => \"csv\"\n",
    "  );\n",
    "\n",
    "create or replace table policies\n",
    "select\n",
    "  * except (_rescued_data)\n",
    "from\n",
    "  read_files(\n",
    "    \"/Volumes/\" || :WORKSHOP_CATALOG || \"/\" || :WORKSHOP_SCHEMA || \"/data/policies.csv\",\n",
    "    format => \"csv\"\n",
    "  );\n",
    "\n",
    "create or replace table product_docs\n",
    "tblproperties (delta.enableChangeDataFeed = true)\n",
    "select\n",
    "  * except (_rescued_data)\n",
    "from\n",
    "  read_files(\n",
    "    \"/Volumes/\" || :WORKSHOP_CATALOG || \"/\" || :WORKSHOP_SCHEMA || \"/data/product_docs.csv\",\n",
    "    format => \"csv\",\n",
    "    multiline => true,\n",
    "    escape => '\"'\n",
    "  );"
   ]
  },
  {
   "cell_type": "code",
   "execution_count": 0,
   "metadata": {
    "application/vnd.databricks.v1+cell": {
     "cellMetadata": {
      "byteLimit": 2048000,
      "implicitDf": true,
      "rowLimit": 10000
     },
     "inputWidgets": {},
     "nuid": "aabbde1a-226e-4d88-967d-ed8329d56333",
     "showTitle": false,
     "tableResultSettingsMap": {},
     "title": ""
    }
   },
   "outputs": [],
   "source": [
    "%sql\n",
    "create or replace function get_latest_return()\n",
    "  returns table(purchase_date date, issue_category string, issue_description string, name string)\n",
    "  comment 'Returns the most recent customer service interaction, such as returns.'\n",
    "  return\n",
    "    (\n",
    "      select\n",
    "        cast(date_time as date) as purchase_date,\n",
    "        issue_category,\n",
    "        issue_description,\n",
    "        name\n",
    "      from\n",
    "        cust_service_data\n",
    "      order by\n",
    "        date_time desc\n",
    "      limit 1\n",
    "    );\n",
    "\n",
    "create or replace function get_return_policy()\n",
    "  returns table(policy string, policy_details string, last_updated date)\n",
    "  comment 'Returns the details of the Return Policy'\n",
    "  language sql\n",
    "  return\n",
    "    (\n",
    "      select\n",
    "        policy,\n",
    "        policy_details,\n",
    "        last_updated\n",
    "      from\n",
    "        policies\n",
    "      where\n",
    "        policy = 'Return Policy'\n",
    "      limit 1\n",
    "    );\n",
    "\n",
    "create or replace function get_user_id(user_name string)\n",
    "  returns string\n",
    "  comment 'This takes the name of a customer as an input and returns the corresponding user_id'\n",
    "  language sql\n",
    "  return\n",
    "    select\n",
    "      customer_id\n",
    "    from\n",
    "      cust_service_data\n",
    "    where\n",
    "      name = user_name\n",
    "    limit 1;\n",
    "\n",
    "create or replace function get_order_history(user_id string)\n",
    "  returns table(returns_last_12_months int, issue_category string)\n",
    "  comment 'This takes the user_id of a customer as an input and returns the number of returns and the issue category'\n",
    "  language sql\n",
    "  return\n",
    "    select\n",
    "      count(*) as returns_last_12_months,\n",
    "      issue_category\n",
    "    from\n",
    "      cust_service_data\n",
    "    where\n",
    "      customer_id = user_id\n",
    "    group by\n",
    "      issue_category;"
   ]
  },
  {
   "cell_type": "code",
   "execution_count": 0,
   "metadata": {
    "application/vnd.databricks.v1+cell": {
     "cellMetadata": {
      "byteLimit": 2048000,
      "rowLimit": 10000
     },
     "inputWidgets": {},
     "nuid": "7c2c7f07-2159-443e-8dd8-16bbee0f09ea",
     "showTitle": false,
     "tableResultSettingsMap": {},
     "title": ""
    }
   },
   "outputs": [],
   "source": [
    "from unitycatalog.ai.core.databricks import DatabricksFunctionClient\n",
    "\n",
    "\n",
    "def get_todays_date() -> str:\n",
    "    \"\"\"\n",
    "    Returns today's date in 'YYYY-MM-DD' format.\n",
    "\n",
    "    Returns:\n",
    "        str: Today's date in 'YYYY-MM-DD' format.\n",
    "    \"\"\"\n",
    "    from datetime import datetime\n",
    "\n",
    "    return datetime.now().strftime(\"%Y-%m-%d\")\n",
    "\n",
    "    from unitycatalog.ai.core.databricks import DatabricksFunctionClient\n",
    "\n",
    "\n",
    "client = DatabricksFunctionClient()\n",
    "\n",
    "python_tool_uc_info = client.create_python_function(\n",
    "    func=get_todays_date, catalog=WORKSHOP_CATALOG, schema=WORKSHOP_SCHEMA, replace=True\n",
    ")\n",
    "print(f\"Deployed Unity Catalog function name: {python_tool_uc_info.full_name}\")"
   ]
  },
  {
   "cell_type": "code",
   "execution_count": 0,
   "metadata": {
    "application/vnd.databricks.v1+cell": {
     "cellMetadata": {
      "byteLimit": 2048000,
      "rowLimit": 10000
     },
     "inputWidgets": {},
     "nuid": "34e97ace-abb8-4850-9890-cb18a436700a",
     "showTitle": false,
     "tableResultSettingsMap": {},
     "title": ""
    }
   },
   "outputs": [],
   "source": [
    "from databricks.vector_search.client import VectorSearchClient\n",
    "\n",
    "client = VectorSearchClient()\n",
    "\n",
    "if WORKSHOP_CATALOG not in [v[\"name\"] for v in client.list_endpoints()[\"endpoints\"]]:\n",
    "    print(f\"Creating endpoint {WORKSHOP_CATALOG}\")\n",
    "    client.create_endpoint(name=WORKSHOP_CATALOG, endpoint_type=\"STANDARD\")\n",
    "\n",
    "client.wait_for_endpoint(WORKSHOP_CATALOG)\n",
    "print(f\"Created endpoint {WORKSHOP_CATALOG}\")\n",
    "\n",
    "index_name = f\"{WORKSHOP_CATALOG}.{WORKSHOP_SCHEMA}.product_docs_index\"\n",
    "if index_name not in [\n",
    "    i[\"name\"] for i in client.list_indexes(WORKSHOP_CATALOG).get(\"vector_indexes\", [])\n",
    "]:\n",
    "  print(f\"Creating index {index_name}\")\n",
    "  client.create_delta_sync_index_and_wait(\n",
    "        endpoint_name=WORKSHOP_CATALOG,\n",
    "        source_table_name=f\"{WORKSHOP_CATALOG}.{WORKSHOP_SCHEMA}.product_docs\",\n",
    "        index_name=index_name,\n",
    "        pipeline_type=\"TRIGGERED\",\n",
    "        primary_key=\"product_id\",\n",
    "        embedding_source_column=\"indexed_doc\",\n",
    "        embedding_model_endpoint_name=\"databricks-gte-large-en\",\n",
    "    )\n",
    "print(f\"Created index {index_name}\")"
   ]
  },
  {
   "cell_type": "code",
   "execution_count": 0,
   "metadata": {
    "application/vnd.databricks.v1+cell": {
     "cellMetadata": {
      "byteLimit": 2048000,
      "rowLimit": 10000
     },
     "inputWidgets": {},
     "nuid": "cd88d29c-afec-4c63-bba0-5226433dfb81",
     "showTitle": false,
     "tableResultSettingsMap": {},
     "title": ""
    }
   },
   "outputs": [],
   "source": [
    "import os\n",
    "os.environ[\"IS_WORKSHOP_SETUP\"] = \"TRUE\"\n",
    "sys.path.append(\"02_agent_eval\")\n",
    "\n",
    "import mlflow\n",
    "from agent import tools, LLM_ENDPOINT_NAME\n",
    "from databricks_langchain import VectorSearchRetrieverTool\n",
    "from mlflow.models.resources import DatabricksFunction, DatabricksServingEndpoint\n",
    "from unitycatalog.ai.langchain.toolkit import UnityCatalogTool\n",
    "\n",
    "resources = [DatabricksServingEndpoint(endpoint_name=LLM_ENDPOINT_NAME)]\n",
    "for tool in tools:\n",
    "    if isinstance(tool, VectorSearchRetrieverTool):\n",
    "        resources.extend(tool.resources)\n",
    "    elif isinstance(tool, UnityCatalogTool):\n",
    "        resources.append(DatabricksFunction(function_name=tool.uc_function_name))\n",
    "\n",
    "input_example = {\n",
    "    \"messages\": [\n",
    "        {\n",
    "            \"role\": \"user\",\n",
    "            \"content\": \"What color options are available for the Aria Modern Bookshelf?\"\n",
    "        }\n",
    "    ]\n",
    "}\n",
    "\n",
    "with mlflow.start_run():\n",
    "    logged_agent_info = mlflow.pyfunc.log_model(\n",
    "        artifact_path=\"agent\",\n",
    "        python_model=\"./02_agent_eval/agent.py\",\n",
    "        input_example=input_example,\n",
    "        resources=resources,\n",
    "        extra_pip_requirements=[\n",
    "            \"databricks-connect\"\n",
    "        ]\n",
    "    )\n",
    "\n"
   ]
  },
  {
   "cell_type": "code",
   "execution_count": 0,
   "metadata": {
    "application/vnd.databricks.v1+cell": {
     "cellMetadata": {
      "byteLimit": 2048000,
      "rowLimit": 10000
     },
     "inputWidgets": {},
     "nuid": "82d1c4df-18ad-44c8-abf7-16ebf817643e",
     "showTitle": false,
     "tableResultSettingsMap": {},
     "title": ""
    }
   },
   "outputs": [],
   "source": [
    "from databricks.sdk import WorkspaceClient\n",
    "from databricks import agents\n",
    "\n",
    "mlflow.set_registry_uri(\"databricks-uc\")\n",
    "uc_model_name = f\"{WORKSHOP_CATALOG}.{WORKSHOP_SCHEMA}.product_agent\"\n",
    "\n",
    "# register the model to UC\n",
    "uc_registered_model_info = mlflow.register_model(\n",
    "    model_uri=logged_agent_info.model_uri, name=uc_model_name\n",
    ")\n",
    "\n",
    "agents.deploy(\n",
    "    uc_model_name,\n",
    "    uc_registered_model_info.version,\n",
    "    scale_to_zero=True,\n",
    "    environment_vars={\n",
    "        \"WORKSHOP_CATALOG\": WORKSHOP_CATALOG,\n",
    "        \"WORKSHOP_SCHEMA\": WORKSHOP_SCHEMA,\n",
    "        \"USER_SCHEMA\": USER_SCHEMA,\n",
    "        \"IS_WORKSHOP_SETUP\": \"TRUE\",\n",
    "    },\n",
    "    tags={\"endpointSource\": \"Agent Lab\"},\n",
    ")"
   ]
  }
 ],
 "metadata": {
  "application/vnd.databricks.v1+notebook": {
   "computePreferences": null,
   "dashboards": [],
   "environmentMetadata": {
    "base_environment": "dbe_c75093c8-0895-475e-8c1b-6acacfe3368b",
    "environment_version": "2"
   },
   "inputWidgetPreferences": null,
   "language": "python",
   "notebookMetadata": {
    "mostRecentlyExecutedCommandWithImplicitDF": {
     "commandId": 1938256853174991,
     "dataframes": [
      "_sqldf"
     ]
    },
    "pythonIndentUnit": 4,
    "widgetLayout": []
   },
   "notebookName": "00 - Setup",
   "widgets": {
    "USER_SCHEMA": {
     "currentValue": "jesse_young",
     "nuid": "d4c6538d-b500-4be4-9cb2-772fab91f5d9",
     "typedWidgetInfo": {
      "autoCreated": false,
      "defaultValue": "jesse_young",
      "label": null,
      "name": "USER_SCHEMA",
      "options": {
       "widgetDisplayType": "Text",
       "validationRegex": null
      },
      "parameterDataType": "String"
     },
     "widgetInfo": {
      "widgetType": "text",
      "defaultValue": "jesse_young",
      "label": null,
      "name": "USER_SCHEMA",
      "options": {
       "widgetType": "text",
       "autoCreated": null,
       "validationRegex": null
      }
     }
    },
    "WORKSHOP_CATALOG": {
     "currentValue": "jy_workshop",
     "nuid": "1a9b95e7-6c4c-4f10-b115-623e5f8c87d4",
     "typedWidgetInfo": {
      "autoCreated": false,
      "defaultValue": "jy_workshop",
      "label": null,
      "name": "WORKSHOP_CATALOG",
      "options": {
       "widgetDisplayType": "Text",
       "validationRegex": null
      },
      "parameterDataType": "String"
     },
     "widgetInfo": {
      "widgetType": "text",
      "defaultValue": "jy_workshop",
      "label": null,
      "name": "WORKSHOP_CATALOG",
      "options": {
       "widgetType": "text",
       "autoCreated": null,
       "validationRegex": null
      }
     }
    },
    "WORKSHOP_SCHEMA": {
     "currentValue": "agents",
     "nuid": "e70f3eff-5def-4136-af0d-07d085b25695",
     "typedWidgetInfo": {
      "autoCreated": false,
      "defaultValue": "agents",
      "label": null,
      "name": "WORKSHOP_SCHEMA",
      "options": {
       "widgetDisplayType": "Text",
       "validationRegex": null
      },
      "parameterDataType": "String"
     },
     "widgetInfo": {
      "widgetType": "text",
      "defaultValue": "agents",
      "label": null,
      "name": "WORKSHOP_SCHEMA",
      "options": {
       "widgetType": "text",
       "autoCreated": null,
       "validationRegex": null
      }
     }
    }
   }
  },
  "language_info": {
   "name": "python"
  }
 },
 "nbformat": 4,
 "nbformat_minor": 0
}

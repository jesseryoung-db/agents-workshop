{
 "cells": [
  {
   "cell_type": "markdown",
   "metadata": {
    "application/vnd.databricks.v1+cell": {
     "cellMetadata": {
      "byteLimit": 2048000,
      "rowLimit": 10000
     },
     "inputWidgets": {},
     "nuid": "aa91f1d7-8410-4d63-a25a-bf519eca0bfd",
     "showTitle": false,
     "tableResultSettingsMap": {},
     "title": ""
    }
   },
   "source": [
    "# Hands-On Lab: Building Agent Systems with Databricks\n",
    "\n",
    "## Part 1 - Architect Your First Agent\n",
    "This first agent will follow the workflow of a customer service representative to illustrate the various agent capabilites. \n",
    "We'll focus around processing product returns as this gives us a tangible set of steps to follow.\n",
    "\n",
    "### 1.1 Build Simple Tools\n",
    "- **SQL Functions**: Create queries that access data critical to steps in the customer service workflow for processing a return.\n",
    "- **Simple Python Function**: Create and register a Python function to overcome some common limitations of language models.\n",
    "\n",
    "### 1.2 Integrate with an LLM [AI Playground]\n",
    "- Combine the tools you created with a Language Model (LLM) in the AI Playground.\n",
    "\n",
    "### 1.3 Test the Agent [AI Playground]\n",
    "- Ask the agent a question and observe the response.\n",
    "- Dive deeper into the agent’s performance by exploring MLflow traces.\n"
   ]
  },
  {
   "cell_type": "code",
   "execution_count": 0,
   "metadata": {
    "application/vnd.databricks.v1+cell": {
     "cellMetadata": {
      "byteLimit": 2048000,
      "rowLimit": 10000
     },
     "inputWidgets": {},
     "nuid": "625f36d9-dd8a-4b2d-9c7f-7b33d61960ce",
     "showTitle": true,
     "tableResultSettingsMap": {},
     "title": "Library Installs"
    }
   },
   "outputs": [],
   "source": [
    "%pip install -qqqq -U -r requirements.txt\n",
    "# Restart to load the packages into the Python environment\n",
    "dbutils.library.restartPython()"
   ]
  },
  {
   "cell_type": "code",
   "execution_count": 0,
   "metadata": {
    "application/vnd.databricks.v1+cell": {
     "cellMetadata": {
      "byteLimit": 2048000,
      "rowLimit": 10000
     },
     "inputWidgets": {},
     "nuid": "3752dc1d-59f0-40a4-9361-79812f269da9",
     "showTitle": false,
     "tableResultSettingsMap": {},
     "title": ""
    }
   },
   "outputs": [],
   "source": [
    "import sys\n",
    "sys.path.append(\"..\")\n",
    "\n",
    "from workshop_config import *"
   ]
  },
  {
   "cell_type": "code",
   "execution_count": 0,
   "metadata": {
    "application/vnd.databricks.v1+cell": {
     "cellMetadata": {
      "byteLimit": 2048000,
      "implicitDf": true,
      "rowLimit": 10000
     },
     "inputWidgets": {},
     "nuid": "6561b308-b35a-4f5d-8b75-0519f6073216",
     "showTitle": true,
     "tableResultSettingsMap": {},
     "title": "Parameter Configs"
    }
   },
   "outputs": [],
   "source": [
    "%sql\n",
    "CREATE SCHEMA IF NOT EXISTS IDENTIFIER(:WORKSHOP_CATALOG || \".\" || :USER_SCHEMA);\n",
    "USE IDENTIFIER(:WORKSHOP_CATALOG || \".\" || :WORKSHOP_SCHEMA);"
   ]
  },
  {
   "cell_type": "markdown",
   "metadata": {
    "application/vnd.databricks.v1+cell": {
     "cellMetadata": {
      "byteLimit": 2048000,
      "rowLimit": 10000
     },
     "inputWidgets": {},
     "nuid": "7b39e919-466a-4b97-96e9-9fc12ba3f369",
     "showTitle": false,
     "tableResultSettingsMap": {},
     "title": ""
    }
   },
   "source": [
    "# Customer Service Return Processing Workflow\n",
    "\n",
    "Below is a structured outline of the **key steps** a customer service agent would typically follow when **processing a return**. This workflow ensures consistency and clarity across your support team.\n",
    "\n",
    "---\n",
    "\n",
    "## 1. Get the Latest Return in the Processing Queue\n",
    "- **Action**: Identify and retrieve the most recent return request from the ticketing or returns system.  \n",
    "- **Why**: Ensures you’re working on the most urgent or next-in-line customer issue.\n",
    "\n",
    "---"
   ]
  },
  {
   "cell_type": "code",
   "execution_count": 0,
   "metadata": {
    "application/vnd.databricks.v1+cell": {
     "cellMetadata": {
      "byteLimit": 2048000,
      "implicitDf": true,
      "rowLimit": 10000
     },
     "inputWidgets": {},
     "nuid": "0286ccb2-3bde-4352-b843-d215ef8cbe85",
     "showTitle": true,
     "tableResultSettingsMap": {},
     "title": "Get the Latest Return in the Processing Queue"
    }
   },
   "outputs": [],
   "source": [
    "%sql\n",
    "-- Select the date of the interaction, issue category, issue description, and customer name\n",
    "SELECT\n",
    "  cast(date_time as date) as case_time,\n",
    "  issue_category,\n",
    "  issue_description,\n",
    "  name\n",
    "FROM\n",
    "  cust_service_data\n",
    "-- Order the results by the interaction date and time in descending order\n",
    "ORDER BY\n",
    "  date_time DESC\n",
    "-- Limit the results to the most recent interaction\n",
    "LIMIT 1"
   ]
  },
  {
   "cell_type": "code",
   "execution_count": 0,
   "metadata": {
    "application/vnd.databricks.v1+cell": {
     "cellMetadata": {
      "byteLimit": 2048000,
      "implicitDf": true,
      "rowLimit": 10000
     },
     "inputWidgets": {},
     "nuid": "8481b205-2126-472d-be78-336fcdec032b",
     "showTitle": true,
     "tableResultSettingsMap": {},
     "title": "Create a function registered to Unity Catalog"
    }
   },
   "outputs": [],
   "source": [
    "%sql\n",
    "CREATE OR REPLACE FUNCTION IDENTIFIER(\n",
    "  :WORKSHOP_CATALOG || '.' || :USER_SCHEMA || '.get_latest_return'\n",
    ")()\n",
    "  RETURNS TABLE(purchase_date DATE, issue_category STRING, issue_description STRING, name STRING)\n",
    "  COMMENT 'Returns the most recent customer service interaction, such as returns.'\n",
    "  RETURN\n",
    "    (\n",
    "      SELECT\n",
    "        CAST(date_time AS DATE) AS purchase_date,\n",
    "        issue_category,\n",
    "        issue_description,\n",
    "        name\n",
    "      FROM\n",
    "        cust_service_data\n",
    "      ORDER BY\n",
    "        date_time DESC\n",
    "      LIMIT 1\n",
    "    );"
   ]
  },
  {
   "cell_type": "code",
   "execution_count": 0,
   "metadata": {
    "application/vnd.databricks.v1+cell": {
     "cellMetadata": {
      "byteLimit": 2048000,
      "implicitDf": true,
      "rowLimit": 10000
     },
     "inputWidgets": {},
     "nuid": "ba913b5f-a592-47dc-8f95-0ba0c55c8df3",
     "showTitle": true,
     "tableResultSettingsMap": {},
     "title": "Test function call to retrieve latest return"
    }
   },
   "outputs": [],
   "source": [
    "%sql\n",
    "select\n",
    "  *\n",
    "from\n",
    "  IDENTIFIER(:WORKSHOP_CATALOG || '.' || :USER_SCHEMA || '.get_latest_return')()"
   ]
  },
  {
   "cell_type": "markdown",
   "metadata": {
    "application/vnd.databricks.v1+cell": {
     "cellMetadata": {
      "byteLimit": 2048000,
      "rowLimit": 10000
     },
     "inputWidgets": {},
     "nuid": "c3ec5cc8-dbba-4ea2-9930-4a71153285a5",
     "showTitle": false,
     "tableResultSettingsMap": {},
     "title": ""
    }
   },
   "source": [
    "---\n",
    "\n",
    "## 2. Retrieve Company Policies\n",
    "- **Action**: Access the internal knowledge base or policy documents related to returns, refunds, and exchanges.  \n",
    "- **Why**: Verifying you’re in compliance with company guidelines prevents potential errors and conflicts.\n",
    "\n",
    "---"
   ]
  },
  {
   "cell_type": "code",
   "execution_count": 0,
   "metadata": {
    "application/vnd.databricks.v1+cell": {
     "cellMetadata": {
      "byteLimit": 2048000,
      "implicitDf": true,
      "rowLimit": 10000
     },
     "inputWidgets": {},
     "nuid": "d78f33eb-6feb-428f-8cd1-aede88e8863c",
     "showTitle": true,
     "tableResultSettingsMap": {},
     "title": "Create function to retrieve return policy"
    }
   },
   "outputs": [],
   "source": [
    "%sql\n",
    "CREATE OR REPLACE FUNCTION IDENTIFIER(:WORKSHOP_CATALOG || '.' || :USER_SCHEMA || '.get_return_policy')(\n",
    "\n",
    "  )\n",
    "  RETURNS TABLE(policy STRING, policy_details STRING, last_updated DATE)\n",
    "  COMMENT 'Returns the details of the Return Policy'\n",
    "  LANGUAGE SQL\n",
    "  RETURN\n",
    "    (\n",
    "      SELECT\n",
    "        policy,\n",
    "        policy_details,\n",
    "        last_updated\n",
    "      FROM\n",
    "        policies\n",
    "      WHERE\n",
    "        policy = 'Return Policy'\n",
    "      LIMIT 1\n",
    "    );"
   ]
  },
  {
   "cell_type": "code",
   "execution_count": 0,
   "metadata": {
    "application/vnd.databricks.v1+cell": {
     "cellMetadata": {
      "byteLimit": 2048000,
      "implicitDf": true,
      "rowLimit": 10000
     },
     "inputWidgets": {},
     "nuid": "1194c5c5-3777-43a2-8fa0-00cb057052bf",
     "showTitle": true,
     "tableResultSettingsMap": {},
     "title": "Test function to retrieve return policy"
    }
   },
   "outputs": [],
   "source": [
    "%sql\n",
    "select * from IDENTIFIER(:WORKSHOP_CATALOG || '.' || :USER_SCHEMA || '.get_return_policy')()"
   ]
  },
  {
   "cell_type": "markdown",
   "metadata": {
    "application/vnd.databricks.v1+cell": {
     "cellMetadata": {
      "byteLimit": 2048000,
      "rowLimit": 10000
     },
     "inputWidgets": {},
     "nuid": "18cd8b37-2f57-4d5a-b954-792be4a8f3f4",
     "showTitle": false,
     "tableResultSettingsMap": {},
     "title": ""
    }
   },
   "source": [
    "---\n",
    "\n",
    "## 3. Retrieve UserID for the Latest Return\n",
    "- **Action**: Note the user’s unique identifier from the return request details.  \n",
    "- **Why**: Accurately referencing the correct user’s data streamlines the process and avoids mixing up customer records.\n",
    "\n",
    "---"
   ]
  },
  {
   "cell_type": "code",
   "execution_count": 0,
   "metadata": {
    "application/vnd.databricks.v1+cell": {
     "cellMetadata": {
      "byteLimit": 2048000,
      "implicitDf": true,
      "rowLimit": 10000
     },
     "inputWidgets": {},
     "nuid": "29ee7b0f-3d95-45ad-9479-3bac0b92cdef",
     "showTitle": true,
     "tableResultSettingsMap": {},
     "title": "Create function that retrieves userID based on name"
    }
   },
   "outputs": [],
   "source": [
    "%sql\n",
    "CREATE OR REPLACE FUNCTION IDENTIFIER(:WORKSHOP_CATALOG || '.' || :USER_SCHEMA || '.get_user_id')(\n",
    "    user_name STRING\n",
    "  )\n",
    "  RETURNS STRING\n",
    "  COMMENT 'This takes the name of a customer as an input and returns the corresponding user_id'\n",
    "  LANGUAGE SQL\n",
    "  RETURN\n",
    "    SELECT\n",
    "      customer_id\n",
    "    FROM\n",
    "      cust_service_data\n",
    "    WHERE\n",
    "      name = user_name\n",
    "    LIMIT 1;"
   ]
  },
  {
   "cell_type": "code",
   "execution_count": 0,
   "metadata": {
    "application/vnd.databricks.v1+cell": {
     "cellMetadata": {
      "byteLimit": 2048000,
      "implicitDf": true,
      "rowLimit": 10000
     },
     "inputWidgets": {},
     "nuid": "d77ddf7f-196f-4319-9927-47f3daf40aeb",
     "showTitle": true,
     "tableResultSettingsMap": {},
     "title": "Test function that retrieves userID based on name"
    }
   },
   "outputs": [],
   "source": [
    "%sql\n",
    "\n",
    "--New Parameter Syntax (MLR > 15.1)\n",
    "select IDENTIFIER(:WORKSHOP_CATALOG || '.' || :USER_SCHEMA || '.get_user_id')('Nicolas Pelaez');"
   ]
  },
  {
   "cell_type": "markdown",
   "metadata": {
    "application/vnd.databricks.v1+cell": {
     "cellMetadata": {
      "byteLimit": 2048000,
      "rowLimit": 10000
     },
     "inputWidgets": {},
     "nuid": "579745bf-8cb7-46cc-a7cc-a99d4ab76642",
     "showTitle": false,
     "tableResultSettingsMap": {},
     "title": ""
    }
   },
   "source": [
    "---\n",
    "\n",
    "## 4. Use the UserID to Look Up the Order History\n",
    "- **Action**: Query your order management system or customer database using the UserID.  \n",
    "- **Why**: Reviewing past purchases, return patterns, and any specific notes helps you determine appropriate next steps (e.g., confirm eligibility for return).\n",
    "\n",
    "---"
   ]
  },
  {
   "cell_type": "code",
   "execution_count": 0,
   "metadata": {
    "application/vnd.databricks.v1+cell": {
     "cellMetadata": {
      "byteLimit": 2048000,
      "implicitDf": true,
      "rowLimit": 10000
     },
     "inputWidgets": {},
     "nuid": "ea830422-753a-4077-90d2-3ade7e8b2d64",
     "showTitle": true,
     "tableResultSettingsMap": {},
     "title": "Create function that retrieves order history based on userID"
    }
   },
   "outputs": [],
   "source": [
    "%sql\n",
    "CREATE OR REPLACE FUNCTION IDENTIFIER(:WORKSHOP_CATALOG || '.' || :USER_SCHEMA || '.get_order_history')(\n",
    "    user_id STRING\n",
    "  )\n",
    "  RETURNS TABLE(returns_last_12_months INT, issue_category STRING)\n",
    "  COMMENT 'This takes the user_id of a customer as an input and returns the number of returns and the issue category'\n",
    "  LANGUAGE SQL\n",
    "  RETURN\n",
    "    SELECT\n",
    "      count(*) as returns_last_12_months,\n",
    "      issue_category\n",
    "    FROM\n",
    "      cust_service_data\n",
    "    WHERE\n",
    "      customer_id = user_id\n",
    "    GROUP BY\n",
    "      issue_category;"
   ]
  },
  {
   "cell_type": "code",
   "execution_count": 0,
   "metadata": {
    "application/vnd.databricks.v1+cell": {
     "cellMetadata": {
      "byteLimit": 2048000,
      "implicitDf": true,
      "rowLimit": 10000
     },
     "inputWidgets": {},
     "nuid": "1f11008a-2b3e-427e-a620-da2c56f21be9",
     "showTitle": true,
     "tableResultSettingsMap": {},
     "title": "Test function that retrieves order history based on userID"
    }
   },
   "outputs": [],
   "source": [
    "%sql\n",
    "select * from IDENTIFIER(:WORKSHOP_CATALOG || '.' || :USER_SCHEMA || '.get_order_history')('453e50e0-232e-44ea-9fe3-28d550be6294')"
   ]
  },
  {
   "cell_type": "markdown",
   "metadata": {
    "application/vnd.databricks.v1+cell": {
     "cellMetadata": {
      "byteLimit": 2048000,
      "rowLimit": 10000
     },
     "inputWidgets": {},
     "nuid": "32d419ba-80ce-47ac-b648-55021308f935",
     "showTitle": false,
     "tableResultSettingsMap": {},
     "title": ""
    }
   },
   "source": [
    "---\n",
    "\n",
    "## 5. Give the LLM a Python Function to Know Today’s Date\n",
    "- **Action**: Provide a **Python function** that can supply the Large Language Model (LLM) with the current date.  \n",
    "- **Why**: Automating date retrieval helps in scheduling pickups, refund timelines, and communication deadlines.\n",
    "\n",
    "###### Note: There is also a function registered in System.ai.python_exec that will let your LLM run generated code in a sandboxed environment\n",
    "---"
   ]
  },
  {
   "cell_type": "code",
   "execution_count": 0,
   "metadata": {
    "application/vnd.databricks.v1+cell": {
     "cellMetadata": {
      "byteLimit": 2048000,
      "rowLimit": 10000
     },
     "inputWidgets": {},
     "nuid": "1b29ea20-c7d3-414f-8823-3d61b691248d",
     "showTitle": true,
     "tableResultSettingsMap": {},
     "title": "Very simple Python function"
    }
   },
   "outputs": [],
   "source": [
    "def get_todays_date() -> str:\n",
    "    \"\"\"\n",
    "    Returns today's date in 'YYYY-MM-DD' format.\n",
    "\n",
    "    Returns:\n",
    "        str: Today's date in 'YYYY-MM-DD' format.\n",
    "    \"\"\"\n",
    "    from datetime import datetime\n",
    "    return datetime.now().strftime(\"%Y-%m-%d\")"
   ]
  },
  {
   "cell_type": "code",
   "execution_count": 0,
   "metadata": {
    "application/vnd.databricks.v1+cell": {
     "cellMetadata": {
      "byteLimit": 2048000,
      "rowLimit": 10000
     },
     "inputWidgets": {},
     "nuid": "e6615512-e507-4a06-8514-9a3641022c40",
     "showTitle": true,
     "tableResultSettingsMap": {},
     "title": "Test python function"
    }
   },
   "outputs": [],
   "source": [
    "today = get_todays_date()\n",
    "today"
   ]
  },
  {
   "cell_type": "code",
   "execution_count": 0,
   "metadata": {
    "application/vnd.databricks.v1+cell": {
     "cellMetadata": {
      "byteLimit": 2048000,
      "rowLimit": 10000
     },
     "inputWidgets": {},
     "nuid": "07be88d9-e5d7-4d02-b3b5-3188d08869be",
     "showTitle": true,
     "tableResultSettingsMap": {},
     "title": "Register python function to Unity Catalog"
    }
   },
   "outputs": [],
   "source": [
    "from unitycatalog.ai.core.databricks import DatabricksFunctionClient\n",
    "\n",
    "client = DatabricksFunctionClient()\n",
    "\n",
    "# this will deploy the tool to UC, automatically setting the metadata in UC based on the tool's docstring & typing hints\n",
    "python_tool_uc_info = client.create_python_function(\n",
    "    func=get_todays_date, catalog=WORKSHOP_CATALOG, schema=USER_SCHEMA, replace=True\n",
    ")\n",
    "\n",
    "# the tool will deploy to a function in UC called `{catalog}.{schema}.{func}` where {func} is the name of the function\n",
    "# Print the deployed Unity Catalog function name\n",
    "print(f\"Deployed Unity Catalog function name: {python_tool_uc_info.full_name}\")"
   ]
  },
  {
   "cell_type": "code",
   "execution_count": 0,
   "metadata": {
    "application/vnd.databricks.v1+cell": {
     "cellMetadata": {
      "byteLimit": 2048000,
      "rowLimit": 10000
     },
     "inputWidgets": {},
     "nuid": "e8bfccae-63ce-4a6f-b9fb-affafaf6b402",
     "showTitle": true,
     "tableResultSettingsMap": {},
     "title": "Let's take a look at our created functions"
    }
   },
   "outputs": [],
   "source": [
    "from IPython.display import display, HTML\n",
    "\n",
    "# Retrieve the Databricks host URL\n",
    "workspace_url = spark.conf.get('spark.databricks.workspaceUrl')\n",
    "\n",
    "# Create HTML link to created functions\n",
    "html_link = f'<a href=\"https://{workspace_url}/explore/data/functions/{WORKSHOP_CATALOG}/{USER_SCHEMA}/get_todays_date\" target=\"_blank\">Go to Unity Catalog to see Registered Functions</a>'\n",
    "display(HTML(html_link))"
   ]
  },
  {
   "cell_type": "markdown",
   "metadata": {
    "application/vnd.databricks.v1+cell": {
     "cellMetadata": {
      "byteLimit": 2048000,
      "rowLimit": 10000
     },
     "inputWidgets": {},
     "nuid": "6cfe47f9-aee1-4d48-adb3-a635107ddc0e",
     "showTitle": false,
     "tableResultSettingsMap": {},
     "title": ""
    }
   },
   "source": [
    "## Now lets go over to the AI Playground to see how we can use these functions and assemble our first Agent!\n",
    "\n",
    "### The AI Playground can be found on the left navigation bar under 'Machine Learning' or you can use the link created below"
   ]
  },
  {
   "cell_type": "code",
   "execution_count": 0,
   "metadata": {
    "application/vnd.databricks.v1+cell": {
     "cellMetadata": {
      "byteLimit": 2048000,
      "rowLimit": 10000
     },
     "inputWidgets": {},
     "nuid": "40e1ae01-46c0-4aad-ba30-1646add32701",
     "showTitle": true,
     "tableResultSettingsMap": {},
     "title": "Create link to AI Playground"
    }
   },
   "outputs": [],
   "source": [
    "# Create HTML link to AI Playground\n",
    "html_link = f'<a href=\"https://{workspace_url}/ml/playground\" target=\"_blank\">Go to AI Playground</a>'\n",
    "display(HTML(html_link))"
   ]
  }
 ],
 "metadata": {
  "application/vnd.databricks.v1+notebook": {
   "computePreferences": null,
   "dashboards": [],
   "environmentMetadata": null,
   "inputWidgetPreferences": null,
   "language": "python",
   "notebookMetadata": {
    "mostRecentlyExecutedCommandWithImplicitDF": {
     "commandId": 3397375242343019,
     "dataframes": [
      "_sqldf"
     ]
    },
    "pythonIndentUnit": 4
   },
   "notebookName": "01_create_tools",
   "widgets": {
    "USER_SCHEMA": {
     "currentValue": "jesse_young",
     "nuid": "b28135b4-3763-4a3c-8dd6-461b39ab3df3",
     "typedWidgetInfo": {
      "autoCreated": false,
      "defaultValue": "jesse_young",
      "label": null,
      "name": "USER_SCHEMA",
      "options": {
       "widgetDisplayType": "Text",
       "validationRegex": null
      },
      "parameterDataType": "String"
     },
     "widgetInfo": {
      "widgetType": "text",
      "defaultValue": "jesse_young",
      "label": null,
      "name": "USER_SCHEMA",
      "options": {
       "widgetType": "text",
       "autoCreated": null,
       "validationRegex": null
      }
     }
    },
    "WORKSHOP_CATALOG": {
     "currentValue": "jy_workshop",
     "nuid": "99e5a080-3e9d-471a-917c-b8bf0dbc8ea8",
     "typedWidgetInfo": {
      "autoCreated": false,
      "defaultValue": "jy_workshop",
      "label": null,
      "name": "WORKSHOP_CATALOG",
      "options": {
       "widgetDisplayType": "Text",
       "validationRegex": null
      },
      "parameterDataType": "String"
     },
     "widgetInfo": {
      "widgetType": "text",
      "defaultValue": "jy_workshop",
      "label": null,
      "name": "WORKSHOP_CATALOG",
      "options": {
       "widgetType": "text",
       "autoCreated": null,
       "validationRegex": null
      }
     }
    },
    "WORKSHOP_SCHEMA": {
     "currentValue": "agents",
     "nuid": "c1896ed8-18b9-4de0-8239-bae550104f73",
     "typedWidgetInfo": {
      "autoCreated": false,
      "defaultValue": "agents",
      "label": null,
      "name": "WORKSHOP_SCHEMA",
      "options": {
       "widgetDisplayType": "Text",
       "validationRegex": null
      },
      "parameterDataType": "String"
     },
     "widgetInfo": {
      "widgetType": "text",
      "defaultValue": "agents",
      "label": null,
      "name": "WORKSHOP_SCHEMA",
      "options": {
       "widgetType": "text",
       "autoCreated": null,
       "validationRegex": null
      }
     }
    }
   }
  },
  "language_info": {
   "name": "python"
  }
 },
 "nbformat": 4,
 "nbformat_minor": 0
}
